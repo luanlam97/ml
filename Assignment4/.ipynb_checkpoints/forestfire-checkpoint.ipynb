{
 "cells": [
  {
   "cell_type": "code",
   "execution_count": 23,
   "id": "4fb2e25a",
   "metadata": {},
   "outputs": [],
   "source": [
    "import hiive.mdptoolbox as mdptoolbox\n",
    "import hiive.mdptoolbox.example\n",
    "from hiive.mdptoolbox.mdp import ValueIteration, PolicyIteration, QLearning\n",
    "\n",
    "import numpy as np\n",
    "import pandas as pd\n",
    "import matplotlib.pyplot as plt\n",
    "\n",
    "import time\n",
    "\n",
    "from IPython.display import clear_output, display\n",
    "\n",
    "# suppress pandas warning\n",
    "pd.options.mode.chained_assignment = None\n",
    "\n",
    "# set seed\n",
    "np.random.seed(37)\n",
    "\n",
    "%matplotlib inline"
   ]
  },
  {
   "cell_type": "code",
   "execution_count": 24,
   "id": "75e7f3f2",
   "metadata": {},
   "outputs": [],
   "source": [
    "# code based on:\n",
    "# https://medium.com/analytics-vidhya/solving-the-frozenlake-environment-from-openai-gym-using-value-iteration-5a078dffe438\n",
    "def get_score(env, policy, printInfo=False, episodes=1000):\n",
    "    misses = 0\n",
    "    steps_list = []\n",
    "    for episode in range(episodes):\n",
    "        observation = env.reset()\n",
    "        steps=0\n",
    "        while True:\n",
    "            action = policy[observation]\n",
    "            observation, reward, done, _ = env.step(action)\n",
    "            steps+=1\n",
    "            if done and reward == 1:\n",
    "                # print('You have got the Frisbee after {} steps'.format(steps))\n",
    "                steps_list.append(steps)\n",
    "                break\n",
    "            elif done and reward == 0:\n",
    "                # print(\"You fell in a hole!\")\n",
    "                misses += 1\n",
    "                break\n",
    "    ave_steps = np.mean(steps_list)\n",
    "    std_steps = np.std(steps_list)\n",
    "    pct_fail  = (misses/episodes)* 100\n",
    "    \n",
    "    if (printInfo):\n",
    "        print('----------------------------------------------')\n",
    "        print('You took an average of {:.0f} steps to get the frisbee'.format(ave_steps))\n",
    "        print('And you fell in the hole {:.2f} % of the times'.format(pct_fail))\n",
    "        print('----------------------------------------------')\n",
    "  \n",
    "    return ave_steps, std_steps, pct_fail"
   ]
  },
  {
   "cell_type": "code",
   "execution_count": 66,
   "id": "6450678a",
   "metadata": {},
   "outputs": [
    {
     "data": {
      "image/png": "[encoded data removed]",
      "text/plain": [
       "<Figure size 720x720 with 1 Axes>"
      ]
     },
     "metadata": {
      "needs_background": "light"
     },
     "output_type": "display_data"
    }
   ],
   "source": [
    "colors = {\n",
    "    0: 'g',\n",
    "    1: 'k'\n",
    "}\n",
    "\n",
    "labels = {\n",
    "    0: 'W',\n",
    "    1: 'C',\n",
    "}\n",
    "\n",
    "def plot_forest(policy, title='Forest Management'):\n",
    "    rows = 20\n",
    "    cols = 20\n",
    "    \n",
    "    # reshape policy array to be 2-D - assumes 500 states...\n",
    "    policy = np.array(list(policy)).reshape(rows,cols)\n",
    "    \n",
    "    fig = plt.figure(figsize=(10,10))\n",
    "    ax = fig.add_subplot(111, xlim=(-.01, cols+0.01), ylim = (-.01, rows+0.01))\n",
    "    plt.title(title, fontsize=16, weight='bold', y=1.01)\n",
    "    \n",
    "    for i in range(20):\n",
    "        for j in range(20):\n",
    "            y = 25 - i - 1\n",
    "            x = j\n",
    "            p = plt.Rectangle([x, y], 1, 1, linewidth=1, edgecolor='k')\n",
    "            p.set_facecolor(colors[policy[i,j]])\n",
    "            ax.add_patch(p)\n",
    "            \n",
    "            text = ax.text(x+0.5, y+0.5, labels[policy[i, j]],\n",
    "                           horizontalalignment='center', size=10, verticalalignment='center', color='w')\n",
    "    \n",
    "    plt.axis('off')\n",
    "\n",
    "    \n",
    "plot_forest(bestPolicy)"
   ]
  },
  {
   "cell_type": "code",
   "execution_count": 48,
   "id": "4467dc0a",
   "metadata": {},
   "outputs": [],
   "source": [
    "T,R = hiive.mdptoolbox.example.forest(S=400)"
   ]
  },
  {
   "cell_type": "code",
   "execution_count": 56,
   "id": "6f2c8dc3",
   "metadata": {},
   "outputs": [],
   "source": [
    "def valueIteration(t, r, gammas, epsilons, showResults=False, max_iterations=100000):\n",
    "    t0 = time.time()\n",
    "    \n",
    "    # create data structure to save off\n",
    "    columns = ['gamma', 'epsilon', 'time', 'iterations', 'reward', 'average_steps', 'steps_stddev', 'success_pct', 'policy', 'mean_rewards', 'max_rewards', 'error']\n",
    "    data = pd.DataFrame(0.0, index=np.arange(len(gammas)*len(epsilons)), columns=columns)\n",
    "    \n",
    "    print('Gamma,\\tEps,\\tTime,\\tIter,\\tReward')\n",
    "    print(80*'_')\n",
    "    \n",
    "    testNum = 0\n",
    "    for g in gammas:\n",
    "        for e in epsilons:\n",
    "            test = ValueIteration(t, r, gamma=g, epsilon=e, max_iter=max_iterations)\n",
    "            \n",
    "            runs  = test.run()\n",
    "            Time  = runs[-1]['Time']\n",
    "            iters = runs[-1]['Iteration']\n",
    "            maxR  = runs[-1]['Max V']\n",
    "            \n",
    "            max_rewards, mean_rewards, errors = [], [], []\n",
    "            for run in runs:\n",
    "                max_rewards.append(run['Max V'])\n",
    "                mean_rewards.append(run['Mean V'])\n",
    "                errors.append(run['Error'])\n",
    "            \n",
    "            policy = np.array(test.policy)\n",
    "            \n",
    "            data['gamma'][testNum]        = g\n",
    "            data['epsilon'][testNum]      = e\n",
    "            data['time'][testNum]         = Time\n",
    "            data['iterations'][testNum]   = iters\n",
    "            data['reward'][testNum]       = maxR\n",
    "            data['mean_rewards'][testNum] = {tuple(mean_rewards)}\n",
    "            data['max_rewards'][testNum]  = {tuple(max_rewards)}\n",
    "            data['error'][testNum]        = {tuple(errors)}\n",
    "            data['policy'][testNum]       = {test.policy}\n",
    "            \n",
    "            print('%.2f,\\t%.0E,\\t%.2f,\\t%d,\\t%f' % (g, e, Time, iters, maxR))\n",
    "            \n",
    "            testNum = testNum + 1\n",
    "        \n",
    "    endTime = time.time() - t0\n",
    "    print('Time taken: %.2f' % endTime)\n",
    "    \n",
    "    # See differences in policy\n",
    "    policies = data['policy']\n",
    "    \n",
    "    # replace all NaN's\n",
    "    data.fillna(0, inplace=True)\n",
    "    data.head()\n",
    "        \n",
    "    return data"
   ]
  },
  {
   "cell_type": "code",
   "execution_count": 57,
   "id": "30e4ef2a",
   "metadata": {},
   "outputs": [
    {
     "name": "stdout",
     "output_type": "stream",
     "text": [
      "Gamma,\tEps,\tTime,\tIter,\tReward\n",
      "________________________________________________________________________________\n",
      "0.10,\t1E-05,\t0.00,\t5,\t4.396585\n",
      "0.10,\t1E-10,\t0.00,\t10,\t4.396613\n",
      "0.10,\t1E-15,\t0.00,\t15,\t4.396613\n",
      "0.10,\t1E-20,\t0.00,\t18,\t4.396613\n",
      "0.30,\t1E-05,\t0.00,\t10,\t5.491919\n",
      "0.30,\t1E-10,\t0.00,\t18,\t5.491933\n",
      "0.30,\t1E-15,\t0.00,\t27,\t5.491933\n",
      "0.30,\t1E-20,\t0.00,\t32,\t5.491933\n",
      "0.60,\t1E-05,\t0.00,\t22,\t8.809969\n",
      "0.60,\t1E-10,\t0.00,\t41,\t8.809994\n",
      "0.60,\t1E-15,\t0.01,\t59,\t8.809994\n",
      "0.60,\t1E-20,\t0.01,\t73,\t8.809994\n",
      "0.90,\t1E-05,\t0.01,\t72,\t23.170025\n",
      "0.90,\t1E-10,\t0.01,\t127,\t23.172427\n",
      "0.90,\t1E-15,\t0.02,\t181,\t23.172434\n",
      "0.90,\t1E-20,\t0.03,\t236,\t23.172434\n",
      "0.95,\t1E-05,\t0.01,\t102,\t33.575178\n",
      "0.95,\t1E-10,\t0.02,\t175,\t33.624605\n",
      "0.95,\t1E-15,\t0.02,\t249,\t33.625775\n",
      "0.95,\t1E-20,\t0.03,\t322,\t33.625801\n",
      "1.00,\t1E-05,\t0.03,\t210,\t133.423734\n",
      "1.00,\t1E-10,\t0.03,\t319,\t183.710257\n",
      "1.00,\t1E-15,\t0.04,\t428,\t233.451606\n",
      "1.00,\t1E-20,\t0.05,\t538,\t283.102609\n",
      "Time taken: 0.48\n"
     ]
    }
   ],
   "source": [
    "gammas   = [0.1, 0.3, 0.6, 0.9, 0.95,.9999]\n",
    "epsilons = [1e-5, 1e-10, 1e-15, 1e-20]\n",
    "vi_data  = valueIteration(T, R, gammas, epsilons, showResults=False)\n",
    "\n",
    "#vi_data.head()"
   ]
  },
  {
   "cell_type": "code",
   "execution_count": 58,
   "id": "ee430caa",
   "metadata": {},
   "outputs": [
    {
     "data": {
      "text/html": [
       "<div>\n",
       "<style scoped>\n",
       "    .dataframe tbody tr th:only-of-type {\n",
       "        vertical-align: middle;\n",
       "    }\n",
       "\n",
       "    .dataframe tbody tr th {\n",
       "        vertical-align: top;\n",
       "    }\n",
       "\n",
       "    .dataframe thead th {\n",
       "        text-align: right;\n",
       "    }\n",
       "</style>\n",
       "<table border=\"1\" class=\"dataframe\">\n",
       "  <thead>\n",
       "    <tr style=\"text-align: right;\">\n",
       "      <th></th>\n",
       "      <th>gamma</th>\n",
       "      <th>epsilon</th>\n",
       "      <th>time</th>\n",
       "      <th>iterations</th>\n",
       "      <th>reward</th>\n",
       "    </tr>\n",
       "  </thead>\n",
       "  <tbody>\n",
       "    <tr>\n",
       "      <th>0</th>\n",
       "      <td>0.1000</td>\n",
       "      <td>1.000000e-05</td>\n",
       "      <td>0.001002</td>\n",
       "      <td>5.0</td>\n",
       "      <td>4.396585</td>\n",
       "    </tr>\n",
       "    <tr>\n",
       "      <th>1</th>\n",
       "      <td>0.1000</td>\n",
       "      <td>1.000000e-10</td>\n",
       "      <td>0.001004</td>\n",
       "      <td>10.0</td>\n",
       "      <td>4.396613</td>\n",
       "    </tr>\n",
       "    <tr>\n",
       "      <th>2</th>\n",
       "      <td>0.1000</td>\n",
       "      <td>1.000000e-15</td>\n",
       "      <td>0.002000</td>\n",
       "      <td>15.0</td>\n",
       "      <td>4.396613</td>\n",
       "    </tr>\n",
       "    <tr>\n",
       "      <th>3</th>\n",
       "      <td>0.1000</td>\n",
       "      <td>1.000000e-20</td>\n",
       "      <td>0.002001</td>\n",
       "      <td>18.0</td>\n",
       "      <td>4.396613</td>\n",
       "    </tr>\n",
       "    <tr>\n",
       "      <th>4</th>\n",
       "      <td>0.3000</td>\n",
       "      <td>1.000000e-05</td>\n",
       "      <td>0.001002</td>\n",
       "      <td>10.0</td>\n",
       "      <td>5.491919</td>\n",
       "    </tr>\n",
       "    <tr>\n",
       "      <th>5</th>\n",
       "      <td>0.3000</td>\n",
       "      <td>1.000000e-10</td>\n",
       "      <td>0.002001</td>\n",
       "      <td>18.0</td>\n",
       "      <td>5.491933</td>\n",
       "    </tr>\n",
       "    <tr>\n",
       "      <th>6</th>\n",
       "      <td>0.3000</td>\n",
       "      <td>1.000000e-15</td>\n",
       "      <td>0.003003</td>\n",
       "      <td>27.0</td>\n",
       "      <td>5.491933</td>\n",
       "    </tr>\n",
       "    <tr>\n",
       "      <th>7</th>\n",
       "      <td>0.3000</td>\n",
       "      <td>1.000000e-20</td>\n",
       "      <td>0.002999</td>\n",
       "      <td>32.0</td>\n",
       "      <td>5.491933</td>\n",
       "    </tr>\n",
       "    <tr>\n",
       "      <th>8</th>\n",
       "      <td>0.6000</td>\n",
       "      <td>1.000000e-05</td>\n",
       "      <td>0.003004</td>\n",
       "      <td>22.0</td>\n",
       "      <td>8.809969</td>\n",
       "    </tr>\n",
       "    <tr>\n",
       "      <th>9</th>\n",
       "      <td>0.6000</td>\n",
       "      <td>1.000000e-10</td>\n",
       "      <td>0.003000</td>\n",
       "      <td>41.0</td>\n",
       "      <td>8.809994</td>\n",
       "    </tr>\n",
       "    <tr>\n",
       "      <th>10</th>\n",
       "      <td>0.6000</td>\n",
       "      <td>1.000000e-15</td>\n",
       "      <td>0.007000</td>\n",
       "      <td>59.0</td>\n",
       "      <td>8.809994</td>\n",
       "    </tr>\n",
       "    <tr>\n",
       "      <th>11</th>\n",
       "      <td>0.6000</td>\n",
       "      <td>1.000000e-20</td>\n",
       "      <td>0.007005</td>\n",
       "      <td>73.0</td>\n",
       "      <td>8.809994</td>\n",
       "    </tr>\n",
       "    <tr>\n",
       "      <th>12</th>\n",
       "      <td>0.9000</td>\n",
       "      <td>1.000000e-05</td>\n",
       "      <td>0.008002</td>\n",
       "      <td>72.0</td>\n",
       "      <td>23.170025</td>\n",
       "    </tr>\n",
       "    <tr>\n",
       "      <th>13</th>\n",
       "      <td>0.9000</td>\n",
       "      <td>1.000000e-10</td>\n",
       "      <td>0.013001</td>\n",
       "      <td>127.0</td>\n",
       "      <td>23.172427</td>\n",
       "    </tr>\n",
       "    <tr>\n",
       "      <th>14</th>\n",
       "      <td>0.9000</td>\n",
       "      <td>1.000000e-15</td>\n",
       "      <td>0.019006</td>\n",
       "      <td>181.0</td>\n",
       "      <td>23.172434</td>\n",
       "    </tr>\n",
       "    <tr>\n",
       "      <th>15</th>\n",
       "      <td>0.9000</td>\n",
       "      <td>1.000000e-20</td>\n",
       "      <td>0.026998</td>\n",
       "      <td>236.0</td>\n",
       "      <td>23.172434</td>\n",
       "    </tr>\n",
       "    <tr>\n",
       "      <th>16</th>\n",
       "      <td>0.9500</td>\n",
       "      <td>1.000000e-05</td>\n",
       "      <td>0.010997</td>\n",
       "      <td>102.0</td>\n",
       "      <td>33.575178</td>\n",
       "    </tr>\n",
       "    <tr>\n",
       "      <th>17</th>\n",
       "      <td>0.9500</td>\n",
       "      <td>1.000000e-10</td>\n",
       "      <td>0.016002</td>\n",
       "      <td>175.0</td>\n",
       "      <td>33.624605</td>\n",
       "    </tr>\n",
       "    <tr>\n",
       "      <th>18</th>\n",
       "      <td>0.9500</td>\n",
       "      <td>1.000000e-15</td>\n",
       "      <td>0.022999</td>\n",
       "      <td>249.0</td>\n",
       "      <td>33.625775</td>\n",
       "    </tr>\n",
       "    <tr>\n",
       "      <th>19</th>\n",
       "      <td>0.9500</td>\n",
       "      <td>1.000000e-20</td>\n",
       "      <td>0.029000</td>\n",
       "      <td>322.0</td>\n",
       "      <td>33.625801</td>\n",
       "    </tr>\n",
       "    <tr>\n",
       "      <th>20</th>\n",
       "      <td>0.9999</td>\n",
       "      <td>1.000000e-05</td>\n",
       "      <td>0.027002</td>\n",
       "      <td>210.0</td>\n",
       "      <td>133.423734</td>\n",
       "    </tr>\n",
       "    <tr>\n",
       "      <th>21</th>\n",
       "      <td>0.9999</td>\n",
       "      <td>1.000000e-10</td>\n",
       "      <td>0.029000</td>\n",
       "      <td>319.0</td>\n",
       "      <td>183.710257</td>\n",
       "    </tr>\n",
       "    <tr>\n",
       "      <th>22</th>\n",
       "      <td>0.9999</td>\n",
       "      <td>1.000000e-15</td>\n",
       "      <td>0.041001</td>\n",
       "      <td>428.0</td>\n",
       "      <td>233.451606</td>\n",
       "    </tr>\n",
       "    <tr>\n",
       "      <th>23</th>\n",
       "      <td>0.9999</td>\n",
       "      <td>1.000000e-20</td>\n",
       "      <td>0.053004</td>\n",
       "      <td>538.0</td>\n",
       "      <td>283.102609</td>\n",
       "    </tr>\n",
       "  </tbody>\n",
       "</table>\n",
       "</div>"
      ],
      "text/plain": [
       "     gamma       epsilon      time  iterations      reward\n",
       "0   0.1000  1.000000e-05  0.001002         5.0    4.396585\n",
       "1   0.1000  1.000000e-10  0.001004        10.0    4.396613\n",
       "2   0.1000  1.000000e-15  0.002000        15.0    4.396613\n",
       "3   0.1000  1.000000e-20  0.002001        18.0    4.396613\n",
       "4   0.3000  1.000000e-05  0.001002        10.0    5.491919\n",
       "5   0.3000  1.000000e-10  0.002001        18.0    5.491933\n",
       "6   0.3000  1.000000e-15  0.003003        27.0    5.491933\n",
       "7   0.3000  1.000000e-20  0.002999        32.0    5.491933\n",
       "8   0.6000  1.000000e-05  0.003004        22.0    8.809969\n",
       "9   0.6000  1.000000e-10  0.003000        41.0    8.809994\n",
       "10  0.6000  1.000000e-15  0.007000        59.0    8.809994\n",
       "11  0.6000  1.000000e-20  0.007005        73.0    8.809994\n",
       "12  0.9000  1.000000e-05  0.008002        72.0   23.170025\n",
       "13  0.9000  1.000000e-10  0.013001       127.0   23.172427\n",
       "14  0.9000  1.000000e-15  0.019006       181.0   23.172434\n",
       "15  0.9000  1.000000e-20  0.026998       236.0   23.172434\n",
       "16  0.9500  1.000000e-05  0.010997       102.0   33.575178\n",
       "17  0.9500  1.000000e-10  0.016002       175.0   33.624605\n",
       "18  0.9500  1.000000e-15  0.022999       249.0   33.625775\n",
       "19  0.9500  1.000000e-20  0.029000       322.0   33.625801\n",
       "20  0.9999  1.000000e-05  0.027002       210.0  133.423734\n",
       "21  0.9999  1.000000e-10  0.029000       319.0  183.710257\n",
       "22  0.9999  1.000000e-15  0.041001       428.0  233.451606\n",
       "23  0.9999  1.000000e-20  0.053004       538.0  283.102609"
      ]
     },
     "execution_count": 58,
     "metadata": {},
     "output_type": "execute_result"
    }
   ],
   "source": [
    "vi_data[['gamma','epsilon','time',\"iterations\", \"reward\"]]"
   ]
  },
  {
   "cell_type": "code",
   "execution_count": 59,
   "id": "86b18c1e",
   "metadata": {},
   "outputs": [],
   "source": [
    "policies = vi_data['policy']"
   ]
  },
  {
   "cell_type": "code",
   "execution_count": 84,
   "id": "09d4bc6c",
   "metadata": {},
   "outputs": [
    {
     "data": {
      "image/png": "[encoded data removed]",
      "text/plain": [
       "<Figure size 432x288 with 1 Axes>"
      ]
     },
     "metadata": {
      "needs_background": "light"
     },
     "output_type": "display_data"
    }
   ],
   "source": [
    "vi_data.plot(x='gamma', y='reward', title=\"Reward vs. Gamma (vi)\")\n",
    "plt.grid()"
   ]
  },
  {
   "cell_type": "code",
   "execution_count": 83,
   "id": "2c067c1f",
   "metadata": {},
   "outputs": [
    {
     "data": {
      "image/png": "[encoded data removed]",
      "text/plain": [
       "<Figure size 432x288 with 1 Axes>"
      ]
     },
     "metadata": {
      "needs_background": "light"
     },
     "output_type": "display_data"
    }
   ],
   "source": [
    "vi_data.plot(x='iterations', y='reward', title=\"Reward vs. Iterations (vi)\")\n",
    "plt.grid()"
   ]
  },
  {
   "cell_type": "code",
   "execution_count": 68,
   "id": "7d8c7948",
   "metadata": {},
   "outputs": [
    {
     "name": "stdout",
     "output_type": "stream",
     "text": [
      "Best Result:\n",
      "\tReward = 283.10\n",
      "\tGamma = 0.9999000\n",
      "\tEpsilon= 1E-20\n"
     ]
    },
    {
     "data": {
      "image/png": "[encoded data removed]",
      "text/plain": [
       "<Figure size 720x720 with 1 Axes>"
      ]
     },
     "metadata": {
      "needs_background": "light"
     },
     "output_type": "display_data"
    }
   ],
   "source": [
    "# find the highest score\n",
    "bestRun = vi_data['reward'].argmax()\n",
    "bestPolicy = vi_data['policy'][bestRun]\n",
    "\n",
    "title='Forest Management VI Optimal Policy'\n",
    "plot_forest(bestPolicy, title)\n",
    "\n",
    "# Save off data to a csv file\n",
    "\n",
    "\n",
    "print('Best Result:\\n\\tReward = %.2f\\n\\tGamma = %.7f\\n\\tEpsilon= %.E' % (vi_data['reward'].max(), vi_data['gamma'][bestRun], vi_data['epsilon'][bestRun]))\n"
   ]
  },
  {
   "cell_type": "code",
   "execution_count": 69,
   "id": "b2994691",
   "metadata": {},
   "outputs": [],
   "source": [
    "def policyIteration(t, r, gammas, showResults=False, max_iterations=100000):\n",
    "    t0 = time.time()\n",
    "    \n",
    "    # create data structure to save off\n",
    "    columns = ['gamma', 'epsilon', 'time', 'iterations', 'reward', 'average_steps', 'steps_stddev', 'success_pct', 'policy', 'mean_rewards', 'max_rewards', 'error']\n",
    "    data = pd.DataFrame(0.0, index=np.arange(len(gammas)), columns=columns)\n",
    "    \n",
    "    print('gamma,\\ttime,\\titer,\\treward')\n",
    "    print(80*'_')\n",
    "    \n",
    "    testnum = 0\n",
    "    for g in gammas:\n",
    "        test = PolicyIteration(t, r, gamma=g, max_iter=max_iterations, eval_type=\"matrix\") # eval_type=\"iterative\"\n",
    "        \n",
    "        runs  = test.run()\n",
    "        Time  = test.time\n",
    "        iters = test.iter\n",
    "        maxr  = runs[-1]['Max V']\n",
    "                \n",
    "        max_rewards, mean_rewards, errors = [], [], []\n",
    "        for run in runs:\n",
    "            max_rewards.append(run['Max V'])\n",
    "            mean_rewards.append(run['Mean V'])\n",
    "            errors.append(run['Error'])\n",
    "        \n",
    "        data['gamma'][testnum]        = g\n",
    "        data['time'][testnum]         = Time\n",
    "        data['iterations'][testnum]   = iters\n",
    "        data['reward'][testnum]       = maxr\n",
    "        data['mean_rewards'][testnum] = {tuple(mean_rewards)}\n",
    "        data['max_rewards'][testnum]  = {tuple(max_rewards)}\n",
    "        data['error'][testnum]        = {tuple(errors)}\n",
    "        data['policy'][testnum]       = {test.policy}\n",
    "        \n",
    "        print('%.2f,\\t%.2f,\\t%d,\\t%f' % (g, Time, iters, maxr))\n",
    "        \n",
    "        if showResults:\n",
    "            plot_forest(policy, title)\n",
    "            pass\n",
    "        \n",
    "        testnum = testnum + 1\n",
    "        \n",
    "    endTime = time.time() - t0\n",
    "    print('Time taken: %.2f' % endTime)\n",
    "    \n",
    "    # see differences in policy\n",
    "    policies = data['policy']\n",
    "        \n",
    "    # replace all nan's\n",
    "    data.fillna(0, inplace=True)\n",
    "    data.head()\n",
    "        \n",
    "    return data"
   ]
  },
  {
   "cell_type": "code",
   "execution_count": 70,
   "id": "aa1eae53",
   "metadata": {},
   "outputs": [
    {
     "name": "stdout",
     "output_type": "stream",
     "text": [
      "gamma,\ttime,\titer,\treward\n",
      "________________________________________________________________________________\n",
      "0.10,\t0.02,\t1,\t4.396613\n",
      "0.20,\t0.00,\t1,\t4.882699\n",
      "0.30,\t0.01,\t2,\t5.491933\n",
      "0.40,\t0.01,\t2,\t6.277574\n",
      "0.50,\t0.01,\t3,\t7.329154\n",
      "0.60,\t0.01,\t3,\t8.809994\n",
      "0.70,\t0.02,\t5,\t11.054551\n",
      "0.80,\t0.02,\t6,\t14.883721\n",
      "0.90,\t0.04,\t10,\t23.172434\n",
      "1.00,\t0.09,\t20,\t508.385877\n",
      "Time taken: 0.26\n"
     ]
    }
   ],
   "source": [
    "gammas   = [0.1, 0.2, 0.3, 0.4, 0.5, 0.6, 0.7, 0.8, 0.9, 0.999]\n",
    "pi_data  = policyIteration(T, R, gammas, showResults=False)\n",
    "\n",
    "#pi_data.head()"
   ]
  },
  {
   "cell_type": "code",
   "execution_count": 85,
   "id": "1094eaca",
   "metadata": {},
   "outputs": [
    {
     "data": {
      "text/html": [
       "<div>\n",
       "<style scoped>\n",
       "    .dataframe tbody tr th:only-of-type {\n",
       "        vertical-align: middle;\n",
       "    }\n",
       "\n",
       "    .dataframe tbody tr th {\n",
       "        vertical-align: top;\n",
       "    }\n",
       "\n",
       "    .dataframe thead th {\n",
       "        text-align: right;\n",
       "    }\n",
       "</style>\n",
       "<table border=\"1\" class=\"dataframe\">\n",
       "  <thead>\n",
       "    <tr style=\"text-align: right;\">\n",
       "      <th></th>\n",
       "      <th>gamma</th>\n",
       "      <th>time</th>\n",
       "      <th>iterations</th>\n",
       "      <th>reward</th>\n",
       "    </tr>\n",
       "  </thead>\n",
       "  <tbody>\n",
       "    <tr>\n",
       "      <th>0</th>\n",
       "      <td>0.100</td>\n",
       "      <td>0.018997</td>\n",
       "      <td>1.0</td>\n",
       "      <td>4.396613</td>\n",
       "    </tr>\n",
       "    <tr>\n",
       "      <th>1</th>\n",
       "      <td>0.200</td>\n",
       "      <td>0.004998</td>\n",
       "      <td>1.0</td>\n",
       "      <td>4.882699</td>\n",
       "    </tr>\n",
       "    <tr>\n",
       "      <th>2</th>\n",
       "      <td>0.300</td>\n",
       "      <td>0.010000</td>\n",
       "      <td>2.0</td>\n",
       "      <td>5.491933</td>\n",
       "    </tr>\n",
       "    <tr>\n",
       "      <th>3</th>\n",
       "      <td>0.400</td>\n",
       "      <td>0.006998</td>\n",
       "      <td>2.0</td>\n",
       "      <td>6.277574</td>\n",
       "    </tr>\n",
       "    <tr>\n",
       "      <th>4</th>\n",
       "      <td>0.500</td>\n",
       "      <td>0.011003</td>\n",
       "      <td>3.0</td>\n",
       "      <td>7.329154</td>\n",
       "    </tr>\n",
       "    <tr>\n",
       "      <th>5</th>\n",
       "      <td>0.600</td>\n",
       "      <td>0.011001</td>\n",
       "      <td>3.0</td>\n",
       "      <td>8.809994</td>\n",
       "    </tr>\n",
       "    <tr>\n",
       "      <th>6</th>\n",
       "      <td>0.700</td>\n",
       "      <td>0.019006</td>\n",
       "      <td>5.0</td>\n",
       "      <td>11.054551</td>\n",
       "    </tr>\n",
       "    <tr>\n",
       "      <th>7</th>\n",
       "      <td>0.800</td>\n",
       "      <td>0.023000</td>\n",
       "      <td>6.0</td>\n",
       "      <td>14.883721</td>\n",
       "    </tr>\n",
       "    <tr>\n",
       "      <th>8</th>\n",
       "      <td>0.900</td>\n",
       "      <td>0.042000</td>\n",
       "      <td>10.0</td>\n",
       "      <td>23.172434</td>\n",
       "    </tr>\n",
       "    <tr>\n",
       "      <th>9</th>\n",
       "      <td>0.999</td>\n",
       "      <td>0.085999</td>\n",
       "      <td>20.0</td>\n",
       "      <td>508.385877</td>\n",
       "    </tr>\n",
       "  </tbody>\n",
       "</table>\n",
       "</div>"
      ],
      "text/plain": [
       "   gamma      time  iterations      reward\n",
       "0  0.100  0.018997         1.0    4.396613\n",
       "1  0.200  0.004998         1.0    4.882699\n",
       "2  0.300  0.010000         2.0    5.491933\n",
       "3  0.400  0.006998         2.0    6.277574\n",
       "4  0.500  0.011003         3.0    7.329154\n",
       "5  0.600  0.011001         3.0    8.809994\n",
       "6  0.700  0.019006         5.0   11.054551\n",
       "7  0.800  0.023000         6.0   14.883721\n",
       "8  0.900  0.042000        10.0   23.172434\n",
       "9  0.999  0.085999        20.0  508.385877"
      ]
     },
     "execution_count": 85,
     "metadata": {},
     "output_type": "execute_result"
    }
   ],
   "source": [
    "pi_data[['gamma','time',\"iterations\", \"reward\"]]"
   ]
  },
  {
   "cell_type": "code",
   "execution_count": 81,
   "id": "cdf2cdb1",
   "metadata": {},
   "outputs": [
    {
     "data": {
      "image/png": "[encoded data removed]",
      "text/plain": [
       "<Figure size 432x288 with 1 Axes>"
      ]
     },
     "metadata": {
      "needs_background": "light"
     },
     "output_type": "display_data"
    }
   ],
   "source": [
    "pi_data.plot(x='gamma', y='reward', title='Rewards vs. Gamma (PI)')\n",
    "plt.grid()\n",
    "\n"
   ]
  },
  {
   "cell_type": "code",
   "execution_count": 82,
   "id": "bbb62a9d",
   "metadata": {},
   "outputs": [
    {
     "data": {
      "image/png": "[encoded data removed]",
      "text/plain": [
       "<Figure size 432x288 with 1 Axes>"
      ]
     },
     "metadata": {
      "needs_background": "light"
     },
     "output_type": "display_data"
    }
   ],
   "source": [
    "pi_data.plot(x='iterations', y='reward', title='Rewards vs. Iterations (PI)')\n",
    "plt.grid()"
   ]
  },
  {
   "cell_type": "code",
   "execution_count": 79,
   "id": "e4a84fbe",
   "metadata": {},
   "outputs": [
    {
     "data": {
      "image/png": "[encoded data removed]",
      "text/plain": [
       "<Figure size 432x288 with 1 Axes>"
      ]
     },
     "metadata": {
      "needs_background": "light"
     },
     "output_type": "display_data"
    }
   ],
   "source": [
    "pi_data.plot(x='gamma', y='time', title='gamma vs. time (PI)')\n",
    "plt.grid()"
   ]
  },
  {
   "cell_type": "code",
   "execution_count": 88,
   "id": "e9f5f5c7",
   "metadata": {},
   "outputs": [
    {
     "data": {
      "image/png": "[encoded data removed]",
      "text/plain": [
       "<Figure size 432x288 with 1 Axes>"
      ]
     },
     "metadata": {
      "needs_background": "light"
     },
     "output_type": "display_data"
    }
   ],
   "source": [
    "vi_data.plot(x='gamma', y='time', title='gamma vs. time (VI)')\n",
    "plt.grid()"
   ]
  },
  {
   "cell_type": "code",
   "execution_count": 89,
   "id": "09734322",
   "metadata": {},
   "outputs": [
    {
     "data": {
      "image/png": "[encoded data removed]",
      "text/plain": [
       "<Figure size 432x288 with 1 Axes>"
      ]
     },
     "metadata": {
      "needs_background": "light"
     },
     "output_type": "display_data"
    }
   ],
   "source": [
    "pi_data.plot(x='gamma', y='time', title='gamma vs. time (PI)')\n",
    "plt.grid()"
   ]
  },
  {
   "cell_type": "code",
   "execution_count": 74,
   "id": "a3ba2952",
   "metadata": {},
   "outputs": [
    {
     "name": "stdout",
     "output_type": "stream",
     "text": [
      "Best Result:\n",
      "\tReward = 508.39\n",
      "\tGamma = 0.999\n"
     ]
    },
    {
     "data": {
      "image/png": "[encoded data removed]",
      "text/plain": [
       "<Figure size 720x720 with 1 Axes>"
      ]
     },
     "metadata": {
      "needs_background": "light"
     },
     "output_type": "display_data"
    }
   ],
   "source": [
    "# find the highest score\n",
    "bestRun = pi_data['reward'].argmax()\n",
    "bestPolicy = pi_data['policy'][bestRun]\n",
    "\n",
    "title='Forest Management PI Optimal Policy'\n",
    "plot_forest(bestPolicy, title)\n",
    "\n",
    "# Save off data to a csv file\n",
    "\n",
    "\n",
    "print('Best Result:\\n\\tReward = %.2f\\n\\tGamma = %.3f' % (pi_data['reward'].max(), pi_data['gamma'][bestRun]))\n"
   ]
  },
  {
   "cell_type": "code",
   "execution_count": null,
   "id": "1efeac1a",
   "metadata": {},
   "outputs": [],
   "source": []
  }
 ],
 "metadata": {
  "kernelspec": {
   "display_name": "Python 3 (ipykernel)",
   "language": "python",
   "name": "python3"
  },
  "language_info": {
   "codemirror_mode": {
    "name": "ipython",
    "version": 3
   },
   "file_extension": ".py",
   "mimetype": "text/x-python",
   "name": "python",
   "nbconvert_exporter": "python",
   "pygments_lexer": "ipython3",
   "version": "3.9.7"
  }
 },
 "nbformat": 4,
 "nbformat_minor": 5
}
