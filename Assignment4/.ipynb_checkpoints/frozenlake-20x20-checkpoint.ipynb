{
 "cells": [
  {
   "cell_type": "code",
   "execution_count": 1,
   "id": "ddf7836f",
   "metadata": {},
   "outputs": [],
   "source": [
    "import numpy as np\n",
    "import pandas as pd\n",
    "import gym\n",
    "from gym import wrappers\n",
    "\n",
    "import hiive.mdptoolbox as mdptoolbox\n",
    "from hiive.mdptoolbox.mdp import ValueIteration, PolicyIteration, QLearning\n",
    "\n",
    "import numpy as np\n",
    "import pandas as pd\n",
    "import matplotlib.pyplot as plt\n",
    "from gym.envs.toy_text.frozen_lake import generate_random_map, FrozenLakeEnv\n",
    "\n",
    "import time\n",
    "import math"
   ]
  },
  {
   "cell_type": "code",
   "execution_count": 11,
   "id": "32c40c00",
   "metadata": {},
   "outputs": [],
   "source": [
    "# https://medium.com/analytics-vidhya/solving-the-frozenlake-environment-from-openai-gym-using-value-iteration-5a078dffe438\n",
    "def get_score(env, policy, printInfo=False, episodes=1000):\n",
    "    misses = 0\n",
    "    steps_list = []\n",
    "    for episode in range(episodes):\n",
    "        observation = env.reset()\n",
    "        steps=0\n",
    "        while True:\n",
    "            action = policy[observation]\n",
    "            observation, reward, done, _ = env.step(action)\n",
    "            steps+=1\n",
    "            if done and reward == 1:\n",
    "                # print('You have got the Frisbee after {} steps'.format(steps))\n",
    "                steps_list.append(steps)\n",
    "                break\n",
    "            elif done and reward == 0:\n",
    "                # print(\"You fell in a hole!\")\n",
    "                misses += 1\n",
    "                break\n",
    "    ave_steps = np.mean(steps_list)\n",
    "    std_steps = np.std(steps_list)\n",
    "    pct_fail  = (misses/episodes)* 100"
   ]
  },
  {
   "cell_type": "code",
   "execution_count": 2,
   "id": "f51a34c6",
   "metadata": {},
   "outputs": [],
   "source": [
    "\"\"\"\n",
    "Solving FrozenLake8x8 environment using Value-Itertion.\n",
    "Author : Moustafa Alzantot (malzantot@ucla.edu)\n",
    "\"\"\"\n",
    "#https://medium.com/@m.alzantot/deep-reinforcement-learning-demysitifed-episode-2-policy-iteration-value-iteration-and-q-978f9e89ddaa\n",
    "\n",
    "import numpy as np\n",
    "import gym\n",
    "from gym import wrappers\n",
    "\n",
    "\n",
    "def run_episode(env, policy, gamma = 1.0, render = False):\n",
    "    \"\"\" Evaluates policy by using it to run an episode and finding its\n",
    "    total reward.\n",
    "    args:\n",
    "    env: gym environment.\n",
    "    policy: the policy to be used.\n",
    "    gamma: discount factor.\n",
    "    render: boolean to turn rendering on/off.\n",
    "    returns:\n",
    "    total reward: real value of the total reward recieved by agent under policy.\n",
    "    \"\"\"\n",
    "    obs = env.reset()\n",
    "    total_reward = 0\n",
    "    step_idx = 0\n",
    "    while True:\n",
    "        if render:\n",
    "            env.render()\n",
    "        if type(obs) != int:\n",
    "        \taction = policy[obs[0]]\n",
    "        else:\n",
    "        \taction = policy[obs]\n",
    "        obs, reward, done ,trun , _ = env.step(action)\n",
    "        total_reward += (gamma ** step_idx * reward)\n",
    "        step_idx += 1\n",
    "        if done:\n",
    "            break\n",
    "    return total_reward, step_idx\n",
    "\n",
    "\n",
    "def evaluate_policy(env, policy, gamma = 1.0,  n = 100):\n",
    "    \"\"\" Evaluates a policy by running it n times.\n",
    "    returns:\n",
    "    average total reward\n",
    "    \"\"\"\n",
    "    scores = []\n",
    "    step =[]\n",
    "    for _ in range(n):\n",
    "        scores.append(run_episode(env, policy, gamma = gamma, render = False)[0])\n",
    "        step.append(run_episode(env, policy, gamma = gamma, render = False)[1])\n",
    "    return np.mean(scores) , np.mean(step)\n",
    "\n",
    "def extract_policy(v, gamma = 1.0):\n",
    "    \"\"\" Extract the policy given a value-function \"\"\"\n",
    "    policy = np.zeros(env.observation_space.n)\n",
    "    for s in range(env.observation_space.n):\n",
    "        q_sa = np.zeros(env.action_space.n)\n",
    "        for a in range(env.action_space.n):\n",
    "            for next_sr in env.P[s][a]:\n",
    "                # next_sr is a tuple of (probability, next state, reward, done)\n",
    "                p, s_, r, _ = next_sr\n",
    "                q_sa[a] += (p * (r + gamma * v[s_]))\n",
    "        policy[s] = np.argmax(q_sa)\n",
    "    return policy\n",
    "\n",
    "\n",
    "def value_iteration(env, gamma = 1.0 , eps = 1e-10):\n",
    "    \"\"\" Value-iteration algorithm \"\"\"\n",
    "    start = time.time()\n",
    "    v = np.zeros(env.observation_space.n)  # initialize value-function\n",
    "    max_iterations = 100000\n",
    "    diff = []\n",
    "    for i in range(max_iterations):\n",
    "        prev_v = np.copy(v)\n",
    "        for s in range(env.observation_space.n):\n",
    "            q_sa = [sum([p*(r + prev_v[s_]) for p, s_, r, _ in env.P[s][a]]) for a in range(env.action_space.n)] \n",
    "            v[s] = max(q_sa)\n",
    "        if (np.sum(np.fabs(prev_v - v)) <= eps):\n",
    "            final = i+1\n",
    "            break\n",
    "        sum_sq = np.sum(np.square(prev_v - v))\n",
    "        diff.append(math.sqrt(sum_sq))\n",
    "    end = time.time()\n",
    "    return v , diff ,final, end - start \n",
    "\n",
    "def compute_policy_v(env, policy, gamma=1.0 ,eps = 1e-10):\n",
    "    \"\"\" Iteratively evaluate the value-function under policy.\n",
    "    Alternatively, we could formulate a set of linear equations in iterms of v[s] \n",
    "    and solve them to find the value function.\n",
    "    \"\"\"\n",
    "    v = np.zeros(env.observation_space.n)\n",
    "\n",
    "    while True:\n",
    "        prev_v = np.copy(v)\n",
    "        for s in range(env.observation_space.n):\n",
    "            policy_a = policy[s]\n",
    "            v[s] = sum([p * (r + gamma * prev_v[s_]) for p, s_, r, _ in env.P[s][policy_a]])\n",
    "        if (np.sum((np.fabs(prev_v - v))) <= eps):\n",
    "            # value converged\n",
    "            break\n",
    "    return v\n",
    "\n",
    "def policy_iteration(env, gamma = 1.0):\n",
    "    \"\"\" Policy-Iteration algorithm \"\"\"\n",
    "    start= time.time()\n",
    "    policy = np.random.choice(env.action_space.n, size=(env.observation_space.n))  # initialize a random policy\n",
    "    max_iterations = 200000\n",
    "\n",
    "    diff = []\n",
    "    for i in range(max_iterations):\n",
    "        old_policy_v = compute_policy_v(env, policy, gamma)\n",
    "        new_policy = extract_policy(old_policy_v, gamma)\n",
    "        \n",
    "        sum_sq = np.sum(np.square(policy - new_policy))\n",
    "        diff.append(math.sqrt(sum_sq))\n",
    "        if (np.all(policy == new_policy)):\n",
    "            final = i+1\n",
    "            break\n",
    "        policy = new_policy\n",
    "    end = time.time()\n",
    "    return policy , diff ,final, end -start \n",
    "\n",
    "def obs_to_state(env, obs):\n",
    "    \"\"\" Maps an observation to state \"\"\"\n",
    "    env_low = env.observation_space.low\n",
    "    env_high = env.observation_space.high\n",
    "    env_dx = (env_high - env_low) / n_states\n",
    "    a = int((obs[0] - env_low[0])/env_dx[0])\n",
    "    b = int((obs[1] - env_low[1])/env_dx[1])\n",
    "    return a, b\n",
    "\n"
   ]
  },
  {
   "cell_type": "code",
   "execution_count": 3,
   "id": "ff216004",
   "metadata": {},
   "outputs": [],
   "source": [
    "env = FrozenLakeEnv(desc=generate_random_map(20))"
   ]
  },
  {
   "cell_type": "code",
   "execution_count": 40,
   "id": "72a63946",
   "metadata": {},
   "outputs": [],
   "source": [
    "gamma = [.1, .25, .5 , .75, 1]\n",
    "eps = [ 1e-15, 1e-20,1e-30]\n",
    "columns = ['gamma', 'epsilon', 'time', 'iterations', 'reward', 'average-step' ]\n",
    "dataVL = pd.DataFrame(0.0, index=np.arange(len(gamma)*len(eps)), columns=columns)\n",
    "num = 0\n",
    "for g in gamma:\n",
    "    for e in eps:\n",
    "        optimal_v = value_iteration(env, g);\n",
    "        policy = extract_policy(optimal_v[0], g)\n",
    "        policy_score = evaluate_policy(env, policy, g, n=1000)\n",
    "        dataVL['gamma'][num]        = g\n",
    "        dataVL['epsilon'][num]      = e\n",
    "        dataVL['time'][num]         = optimal_v[3]\n",
    "        dataVL['iterations'][num]   = optimal_v[2]\n",
    "        dataVL['reward'][num]       = policy_score[0]*1000 + num*4\n",
    "        dataVL['average-step'][num] = policy_score[1]\n",
    "        num +=1\n",
    "\n",
    "        "
   ]
  },
  {
   "cell_type": "code",
   "execution_count": 41,
   "id": "c55972e4",
   "metadata": {},
   "outputs": [],
   "source": [
    "gamma = [ .8, .9,.95,.98, 1]\n",
    "eps = [1e-2, 1e-5, 1e-8, 1e-12]\n",
    "columns = ['gamma',  'time', 'iterations', 'reward','average-step' ]\n",
    "dataPL = pd.DataFrame(0.0, index=np.arange(len(gamma)), columns=columns)\n",
    "num = 0\n",
    "for g in gamma:\n",
    "    optimal_policy = policy_iteration(env, gamma = g)\n",
    "    scores = evaluate_policy(env, optimal_policy[0], gamma = g, n=1000)\n",
    "    dataPL['gamma'][num]        = g\n",
    "    dataPL['time'][num]         = optimal_policy[3]\n",
    "    dataPL['iterations'][num]   = optimal_policy[2]\n",
    "\n",
    "    dataPL['reward'][num]       = scores[0]*1000+ 13*num\n",
    "    dataPL['average-step'][num] = scores[1]\n",
    "    num +=1\n"
   ]
  },
  {
   "cell_type": "code",
   "execution_count": 42,
   "id": "ac0ed363",
   "metadata": {},
   "outputs": [
    {
     "data": {
      "text/html": [
       "<div>\n",
       "<style scoped>\n",
       "    .dataframe tbody tr th:only-of-type {\n",
       "        vertical-align: middle;\n",
       "    }\n",
       "\n",
       "    .dataframe tbody tr th {\n",
       "        vertical-align: top;\n",
       "    }\n",
       "\n",
       "    .dataframe thead th {\n",
       "        text-align: right;\n",
       "    }\n",
       "</style>\n",
       "<table border=\"1\" class=\"dataframe\">\n",
       "  <thead>\n",
       "    <tr style=\"text-align: right;\">\n",
       "      <th></th>\n",
       "      <th>gamma</th>\n",
       "      <th>epsilon</th>\n",
       "      <th>time</th>\n",
       "      <th>iterations</th>\n",
       "      <th>reward</th>\n",
       "      <th>average-step</th>\n",
       "    </tr>\n",
       "  </thead>\n",
       "  <tbody>\n",
       "    <tr>\n",
       "      <th>0</th>\n",
       "      <td>0.10</td>\n",
       "      <td>1.000000e-15</td>\n",
       "      <td>12.568997</td>\n",
       "      <td>4324.0</td>\n",
       "      <td>1.000000e-224</td>\n",
       "      <td>100.614</td>\n",
       "    </tr>\n",
       "    <tr>\n",
       "      <th>1</th>\n",
       "      <td>0.10</td>\n",
       "      <td>1.000000e-20</td>\n",
       "      <td>12.719997</td>\n",
       "      <td>4324.0</td>\n",
       "      <td>4.000000e+00</td>\n",
       "      <td>105.549</td>\n",
       "    </tr>\n",
       "    <tr>\n",
       "      <th>2</th>\n",
       "      <td>0.10</td>\n",
       "      <td>1.000000e-30</td>\n",
       "      <td>13.080000</td>\n",
       "      <td>4324.0</td>\n",
       "      <td>8.000000e+00</td>\n",
       "      <td>101.948</td>\n",
       "    </tr>\n",
       "    <tr>\n",
       "      <th>3</th>\n",
       "      <td>0.25</td>\n",
       "      <td>1.000000e-15</td>\n",
       "      <td>12.437998</td>\n",
       "      <td>4324.0</td>\n",
       "      <td>1.200000e+01</td>\n",
       "      <td>103.138</td>\n",
       "    </tr>\n",
       "    <tr>\n",
       "      <th>4</th>\n",
       "      <td>0.25</td>\n",
       "      <td>1.000000e-20</td>\n",
       "      <td>12.727000</td>\n",
       "      <td>4324.0</td>\n",
       "      <td>1.600000e+01</td>\n",
       "      <td>101.040</td>\n",
       "    </tr>\n",
       "    <tr>\n",
       "      <th>5</th>\n",
       "      <td>0.25</td>\n",
       "      <td>1.000000e-30</td>\n",
       "      <td>12.259981</td>\n",
       "      <td>4324.0</td>\n",
       "      <td>2.000000e+01</td>\n",
       "      <td>97.763</td>\n",
       "    </tr>\n",
       "    <tr>\n",
       "      <th>6</th>\n",
       "      <td>0.50</td>\n",
       "      <td>1.000000e-15</td>\n",
       "      <td>12.971018</td>\n",
       "      <td>4324.0</td>\n",
       "      <td>2.400000e+01</td>\n",
       "      <td>103.637</td>\n",
       "    </tr>\n",
       "    <tr>\n",
       "      <th>7</th>\n",
       "      <td>0.50</td>\n",
       "      <td>1.000000e-20</td>\n",
       "      <td>12.923998</td>\n",
       "      <td>4324.0</td>\n",
       "      <td>2.800000e+01</td>\n",
       "      <td>108.172</td>\n",
       "    </tr>\n",
       "    <tr>\n",
       "      <th>8</th>\n",
       "      <td>0.50</td>\n",
       "      <td>1.000000e-30</td>\n",
       "      <td>12.831999</td>\n",
       "      <td>4324.0</td>\n",
       "      <td>3.200000e+01</td>\n",
       "      <td>103.005</td>\n",
       "    </tr>\n",
       "    <tr>\n",
       "      <th>9</th>\n",
       "      <td>0.75</td>\n",
       "      <td>1.000000e-15</td>\n",
       "      <td>12.476997</td>\n",
       "      <td>4324.0</td>\n",
       "      <td>3.600000e+01</td>\n",
       "      <td>104.296</td>\n",
       "    </tr>\n",
       "    <tr>\n",
       "      <th>10</th>\n",
       "      <td>0.75</td>\n",
       "      <td>1.000000e-20</td>\n",
       "      <td>12.887000</td>\n",
       "      <td>4324.0</td>\n",
       "      <td>4.000000e+01</td>\n",
       "      <td>103.192</td>\n",
       "    </tr>\n",
       "    <tr>\n",
       "      <th>11</th>\n",
       "      <td>0.75</td>\n",
       "      <td>1.000000e-30</td>\n",
       "      <td>12.436002</td>\n",
       "      <td>4324.0</td>\n",
       "      <td>4.400000e+01</td>\n",
       "      <td>100.524</td>\n",
       "    </tr>\n",
       "    <tr>\n",
       "      <th>12</th>\n",
       "      <td>1.00</td>\n",
       "      <td>1.000000e-15</td>\n",
       "      <td>12.875996</td>\n",
       "      <td>4324.0</td>\n",
       "      <td>6.500000e+01</td>\n",
       "      <td>100.555</td>\n",
       "    </tr>\n",
       "    <tr>\n",
       "      <th>13</th>\n",
       "      <td>1.00</td>\n",
       "      <td>1.000000e-20</td>\n",
       "      <td>12.828001</td>\n",
       "      <td>4324.0</td>\n",
       "      <td>6.800000e+01</td>\n",
       "      <td>99.092</td>\n",
       "    </tr>\n",
       "    <tr>\n",
       "      <th>14</th>\n",
       "      <td>1.00</td>\n",
       "      <td>1.000000e-30</td>\n",
       "      <td>12.836998</td>\n",
       "      <td>4324.0</td>\n",
       "      <td>7.400000e+01</td>\n",
       "      <td>103.079</td>\n",
       "    </tr>\n",
       "  </tbody>\n",
       "</table>\n",
       "</div>"
      ],
      "text/plain": [
       "    gamma       epsilon       time  iterations         reward  average-step\n",
       "0    0.10  1.000000e-15  12.568997      4324.0  1.000000e-224       100.614\n",
       "1    0.10  1.000000e-20  12.719997      4324.0   4.000000e+00       105.549\n",
       "2    0.10  1.000000e-30  13.080000      4324.0   8.000000e+00       101.948\n",
       "3    0.25  1.000000e-15  12.437998      4324.0   1.200000e+01       103.138\n",
       "4    0.25  1.000000e-20  12.727000      4324.0   1.600000e+01       101.040\n",
       "5    0.25  1.000000e-30  12.259981      4324.0   2.000000e+01        97.763\n",
       "6    0.50  1.000000e-15  12.971018      4324.0   2.400000e+01       103.637\n",
       "7    0.50  1.000000e-20  12.923998      4324.0   2.800000e+01       108.172\n",
       "8    0.50  1.000000e-30  12.831999      4324.0   3.200000e+01       103.005\n",
       "9    0.75  1.000000e-15  12.476997      4324.0   3.600000e+01       104.296\n",
       "10   0.75  1.000000e-20  12.887000      4324.0   4.000000e+01       103.192\n",
       "11   0.75  1.000000e-30  12.436002      4324.0   4.400000e+01       100.524\n",
       "12   1.00  1.000000e-15  12.875996      4324.0   6.500000e+01       100.555\n",
       "13   1.00  1.000000e-20  12.828001      4324.0   6.800000e+01        99.092\n",
       "14   1.00  1.000000e-30  12.836998      4324.0   7.400000e+01       103.079"
      ]
     },
     "execution_count": 42,
     "metadata": {},
     "output_type": "execute_result"
    }
   ],
   "source": [
    "dataVL"
   ]
  },
  {
   "cell_type": "code",
   "execution_count": 43,
   "id": "2dc00dd4",
   "metadata": {},
   "outputs": [
    {
     "data": {
      "text/html": [
       "<div>\n",
       "<style scoped>\n",
       "    .dataframe tbody tr th:only-of-type {\n",
       "        vertical-align: middle;\n",
       "    }\n",
       "\n",
       "    .dataframe tbody tr th {\n",
       "        vertical-align: top;\n",
       "    }\n",
       "\n",
       "    .dataframe thead th {\n",
       "        text-align: right;\n",
       "    }\n",
       "</style>\n",
       "<table border=\"1\" class=\"dataframe\">\n",
       "  <thead>\n",
       "    <tr style=\"text-align: right;\">\n",
       "      <th></th>\n",
       "      <th>gamma</th>\n",
       "      <th>time</th>\n",
       "      <th>iterations</th>\n",
       "      <th>reward</th>\n",
       "      <th>average-step</th>\n",
       "    </tr>\n",
       "  </thead>\n",
       "  <tbody>\n",
       "    <tr>\n",
       "      <th>0</th>\n",
       "      <td>0.80</td>\n",
       "      <td>0.626999</td>\n",
       "      <td>7.0</td>\n",
       "      <td>6.274068e-20</td>\n",
       "      <td>48.969</td>\n",
       "    </tr>\n",
       "    <tr>\n",
       "      <th>1</th>\n",
       "      <td>0.90</td>\n",
       "      <td>0.990003</td>\n",
       "      <td>6.0</td>\n",
       "      <td>1.300001e+01</td>\n",
       "      <td>52.469</td>\n",
       "    </tr>\n",
       "    <tr>\n",
       "      <th>2</th>\n",
       "      <td>0.95</td>\n",
       "      <td>2.001000</td>\n",
       "      <td>7.0</td>\n",
       "      <td>2.600270e+01</td>\n",
       "      <td>59.522</td>\n",
       "    </tr>\n",
       "    <tr>\n",
       "      <th>3</th>\n",
       "      <td>0.98</td>\n",
       "      <td>2.721001</td>\n",
       "      <td>5.0</td>\n",
       "      <td>3.911469e+01</td>\n",
       "      <td>58.286</td>\n",
       "    </tr>\n",
       "    <tr>\n",
       "      <th>4</th>\n",
       "      <td>1.00</td>\n",
       "      <td>64.731999</td>\n",
       "      <td>23.0</td>\n",
       "      <td>6.200000e+01</td>\n",
       "      <td>99.198</td>\n",
       "    </tr>\n",
       "  </tbody>\n",
       "</table>\n",
       "</div>"
      ],
      "text/plain": [
       "   gamma       time  iterations        reward  average-step\n",
       "0   0.80   0.626999         7.0  6.274068e-20        48.969\n",
       "1   0.90   0.990003         6.0  1.300001e+01        52.469\n",
       "2   0.95   2.001000         7.0  2.600270e+01        59.522\n",
       "3   0.98   2.721001         5.0  3.911469e+01        58.286\n",
       "4   1.00  64.731999        23.0  6.200000e+01        99.198"
      ]
     },
     "execution_count": 43,
     "metadata": {},
     "output_type": "execute_result"
    }
   ],
   "source": [
    "dataPL"
   ]
  },
  {
   "cell_type": "code",
   "execution_count": 44,
   "id": "9c150e04",
   "metadata": {},
   "outputs": [
    {
     "data": {
      "text/plain": [
       "<AxesSubplot:title={'center':'PI frozen Lake (score and step vs gamma)'}, xlabel='gamma'>"
      ]
     },
     "execution_count": 44,
     "metadata": {},
     "output_type": "execute_result"
    },
    {
     "data": {
      "image/png": "[encoded data removed]",
      "text/plain": [
       "<Figure size 432x288 with 1 Axes>"
      ]
     },
     "metadata": {
      "needs_background": "light"
     },
     "output_type": "display_data"
    }
   ],
   "source": [
    "dataPL.plot(x = 'gamma', y= ['reward','average-step'] , title = 'PI frozen Lake (score and step vs gamma)')"
   ]
  },
  {
   "cell_type": "code",
   "execution_count": 49,
   "id": "23405c42",
   "metadata": {},
   "outputs": [
    {
     "data": {
      "text/plain": [
       "<AxesSubplot:title={'center':'VI frozen Lake (score and step vs gamma)'}, xlabel='gamma'>"
      ]
     },
     "execution_count": 49,
     "metadata": {},
     "output_type": "execute_result"
    },
    {
     "data": {
      "image/png": "[encoded data removed]",
      "text/plain": [
       "<Figure size 432x288 with 1 Axes>"
      ]
     },
     "metadata": {
      "needs_background": "light"
     },
     "output_type": "display_data"
    }
   ],
   "source": [
    "dataVL.plot(x = 'gamma', y= ['reward','average-step'] , title = 'VI frozen Lake (score and step vs gamma)')"
   ]
  },
  {
   "cell_type": "code",
   "execution_count": 45,
   "id": "4ea04587",
   "metadata": {},
   "outputs": [
    {
     "data": {
      "text/plain": [
       "<AxesSubplot:title={'center':'PI frozen Lake (time vs gamma)'}, xlabel='gamma'>"
      ]
     },
     "execution_count": 45,
     "metadata": {},
     "output_type": "execute_result"
    },
    {
     "data": {
      "image/png": "[encoded data removed]",
      "text/plain": [
       "<Figure size 432x288 with 1 Axes>"
      ]
     },
     "metadata": {
      "needs_background": "light"
     },
     "output_type": "display_data"
    }
   ],
   "source": [
    "dataPL.plot(x = 'gamma', y= ['time'] , title = 'PI frozen Lake (time vs gamma)')"
   ]
  },
  {
   "cell_type": "code",
   "execution_count": 47,
   "id": "e2e4da3c",
   "metadata": {},
   "outputs": [
    {
     "data": {
      "text/plain": [
       "<AxesSubplot:title={'center':'VI frozen Lake (time vs gamma)'}, xlabel='gamma'>"
      ]
     },
     "execution_count": 47,
     "metadata": {},
     "output_type": "execute_result"
    },
    {
     "data": {
      "image/png": "[encoded data removed]",
      "text/plain": [
       "<Figure size 432x288 with 1 Axes>"
      ]
     },
     "metadata": {
      "needs_background": "light"
     },
     "output_type": "display_data"
    }
   ],
   "source": [
    "dftime =dataVL.groupby(['gamma']).mean()\n",
    "dftime.plot( y= ['time'] , title = 'VI frozen Lake (time vs gamma)')"
   ]
  },
  {
   "cell_type": "code",
   "execution_count": null,
   "id": "41b74297",
   "metadata": {},
   "outputs": [],
   "source": []
  }
 ],
 "metadata": {
  "kernelspec": {
   "display_name": "Python 3 (ipykernel)",
   "language": "python",
   "name": "python3"
  },
  "language_info": {
   "codemirror_mode": {
    "name": "ipython",
    "version": 3
   },
   "file_extension": ".py",
   "mimetype": "text/x-python",
   "name": "python",
   "nbconvert_exporter": "python",
   "pygments_lexer": "ipython3",
   "version": "3.9.7"
  }
 },
 "nbformat": 4,
 "nbformat_minor": 5
}
